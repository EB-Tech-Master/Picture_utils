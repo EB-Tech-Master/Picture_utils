{
 "cells": [
  {
   "cell_type": "code",
   "execution_count": 1,
   "metadata": {},
   "outputs": [],
   "source": [
    "from collections import defaultdict\n",
    "import os\n",
    "import csv\n",
    "\n",
    "from xml.etree.ElementTree import parse, Element, SubElement, ElementTree\n",
    "import xml.etree.ElementTree as ET"
   ]
  },
  {
   "cell_type": "code",
   "execution_count": null,
   "metadata": {},
   "outputs": [],
   "source": [
    "\n",
    "save_root2 = \"xmls\"\n",
    "\n",
    "if not os.path.exists(save_root2):\n",
    "    os.mkdir(save_root2)\n",
    "\n",
    "def indent(elem, level=0):\n",
    "    i = \"\\n\" + level*\"  \"\n",
    "    if len(elem):\n",
    "        if not elem.text or not elem.text.strip():\n",
    "            elem.text = i + \"  \"\n",
    "        if not elem.tail or not elem.tail.strip():\n",
    "            elem.tail = i\n",
    "        for elem in elem:\n",
    "            indent(elem, level+1)\n",
    "        if not elem.tail or not elem.tail.strip():\n",
    "            elem.tail = i\n",
    "    else:\n",
    "        if level and (not elem.tail or not elem.tail.strip()):\n",
    "            elem.tail = i\n",
    "\n",
    "def write_xml(folder, filename, bbox_list):\n",
    "    root = Element('annotation')\n",
    "    SubElement(root, 'folder').text = folder\n",
    "    SubElement(root, 'filename').text = filename\n",
    "    SubElement(root, 'path').text = 'C:/Users/User/Documents/EBTECH/dataset/palmoiltree/raw/pic/' +  filename\n",
    "    source = SubElement(root, 'source')\n",
    "    SubElement(source, 'database').text = 'Unknown'\n",
    "    indent(source)\n",
    "\n",
    "\n",
    "    # Details from first entry\n",
    "    e_filename, e_width, e_height, e_class_name, e_xmin, e_ymin, e_xmax, e_ymax = bbox_list[0]\n",
    "    \n",
    "    size = SubElement(root, 'size')\n",
    "    SubElement(size, 'width').text = e_width\n",
    "    SubElement(size, 'height').text = e_height\n",
    "    SubElement(size, 'depth').text = '3'\n",
    "    indent(size)\n",
    "\n",
    "    SubElement(root, 'segmented').text = '0'\n",
    "\n",
    "    for entry in bbox_list:\n",
    "        e_filename, e_width, e_height, e_class_name, e_xmin, e_ymin, e_xmax, e_ymax = entry\n",
    "        \n",
    "        obj = SubElement(root, 'object')\n",
    "        SubElement(obj, 'name').text = e_class_name\n",
    "        SubElement(obj, 'pose').text = 'Unspecified'\n",
    "        SubElement(obj, 'truncated').text = '0'\n",
    "        SubElement(obj, 'difficult').text = '0'\n",
    "        indent(obj)\n",
    "\n",
    "        bbox = SubElement(obj, 'bndbox')\n",
    "        SubElement(bbox, 'xmin').text = e_xmin\n",
    "        SubElement(bbox, 'ymin').text = e_ymin\n",
    "        SubElement(bbox, 'xmax').text = e_xmax\n",
    "        SubElement(bbox, 'ymax').text = e_ymax\n",
    "        indent(bbox)\n",
    "\n",
    "    indent(root)\n",
    "    tree = ElementTree(root)\n",
    "    \n",
    "    xml_filename = os.path.join('.', folder, os.path.splitext(filename)[0] + '.xml')\n",
    "    tree.write(xml_filename)\n",
    "    \n",
    "entries_by_filename = defaultdict(list)\n",
    "\n",
    "with open(\"C:/Users/User/Documents/EBTECH/dataset/palmoiltree/raw/csv/raw.csv\", 'r', encoding='utf-8') as f_input_csv:\n",
    "    csv_input = csv.reader(f_input_csv)\n",
    "    header = next(csv_input)\n",
    "\n",
    "    for row in csv_input:\n",
    "        filename, width, height, class_name, xmin, ymin, xmax, ymax = row\n",
    "\n",
    "        if class_name == \"palm oil\":\n",
    "            entries_by_filename[filename].append(row)\n",
    "\n",
    "for filename, entries in entries_by_filename.items():\n",
    "    print(filename, len(entries))\n",
    "    write_xml(save_root2, filename, entries)\n"
   ]
  },
  {
   "cell_type": "code",
   "execution_count": 2,
   "metadata": {},
   "outputs": [],
   "source": [
    "# Function to get the data from XML Annotation\n",
    "def extract_info_from_xml(xml_file):\n",
    "    root = ET.parse(xml_file).getroot()\n",
    "    \n",
    "    # Initialise the info dict \n",
    "    info_dict = {}\n",
    "    info_dict['bboxes'] = []\n",
    "\n",
    "    # Parse the XML Tree\n",
    "    for elem in root:\n",
    "        # Get the file name \n",
    "        if elem.tag == \"filename\":\n",
    "            info_dict['filename'] = elem.text\n",
    "            \n",
    "        # Get the image size\n",
    "        elif elem.tag == \"size\":\n",
    "            image_size = []\n",
    "            for subelem in elem:\n",
    "                image_size.append(int(subelem.text))\n",
    "            \n",
    "            info_dict['image_size'] = tuple(image_size)\n",
    "        \n",
    "        # Get details of the bounding box \n",
    "        elif elem.tag == \"object\":\n",
    "            bbox = {}\n",
    "            for subelem in elem:\n",
    "                if subelem.tag == \"name\":\n",
    "                    bbox[\"class\"] = subelem.text\n",
    "                    \n",
    "                elif subelem.tag == \"bndbox\":\n",
    "                    for subsubelem in subelem:\n",
    "                        bbox[subsubelem.tag] = int(subsubelem.text)            \n",
    "            info_dict['bboxes'].append(bbox)\n",
    "    \n",
    "    return info_dict"
   ]
  },
  {
   "cell_type": "code",
   "execution_count": 5,
   "metadata": {},
   "outputs": [],
   "source": [
    "# Dictionary that maps class names to IDs\n",
    "class_name_to_id_mapping = {\"unripe\": 0,\n",
    "                            \"underripe\": 1,\n",
    "                            \"ripe\": 2,\n",
    "                            \"overripe\": 3}\n",
    "\n",
    "# Convert the info dict to the required yolo format and write it to disk\n",
    "def convert_to_yolov5(info_dict):\n",
    "    print_buffer = []\n",
    "    \n",
    "    # For each bounding box\n",
    "    for b in info_dict[\"bboxes\"]:\n",
    "        try:\n",
    "            class_id = class_name_to_id_mapping[b[\"class\"]]\n",
    "        except KeyError:\n",
    "            print(\"Invalid Class. Must be one from \", class_name_to_id_mapping.keys())\n",
    "        \n",
    "        # Transform the bbox co-ordinates as per the format required by YOLO v5\n",
    "        b_center_x = (b[\"xmin\"] + b[\"xmax\"]) / 2 \n",
    "        b_center_y = (b[\"ymin\"] + b[\"ymax\"]) / 2\n",
    "        b_width    = (b[\"xmax\"] - b[\"xmin\"])\n",
    "        b_height   = (b[\"ymax\"] - b[\"ymin\"])\n",
    "        \n",
    "        # Normalise the co-ordinates by the dimensions of the image\n",
    "        image_w, image_h, image_c = info_dict[\"image_size\"]  \n",
    "        b_center_x /= image_w \n",
    "        b_center_y /= image_h \n",
    "        b_width    /= image_w \n",
    "        b_height   /= image_h \n",
    "        \n",
    "        #Write the bbox details to the file \n",
    "        print_buffer.append(\"{} {:.3f} {:.3f} {:.3f} {:.3f}\".format(class_id, b_center_x, b_center_y, b_width, b_height))\n",
    "        \n",
    "    # Name of the file which we have to save \n",
    "    save_file_name = os.path.join('C:/Users/User/Documents/EBTECH/dataset/ffb/ripeness/valid/labels', info_dict[\"filename\"].split(\".\")[0]+\".txt\") \n",
    "    \n",
    "    # Save the annotation to disk\n",
    "    print(save_file_name)\n",
    "    with open(save_file_name, 'w') as f:\n",
    "        for line in print_buffer:\n",
    "            f.write(line)\n",
    "            f.write('\\n')"
   ]
  },
  {
   "cell_type": "code",
   "execution_count": 6,
   "metadata": {},
   "outputs": [
    {
     "name": "stderr",
     "output_type": "stream",
     "text": [
      "  7%|▋         | 25/340 [00:00<00:01, 237.64it/s]"
     ]
    },
    {
     "name": "stdout",
     "output_type": "stream",
     "text": [
      "C:/Users/User/Documents/EBTECH/dataset/ffb/ripeness/valid/labels\\ActiOn_340.txt\n",
      "C:/Users/User/Documents/EBTECH/dataset/ffb/ripeness/valid/labels\\ActiOn_342.txt\n",
      "C:/Users/User/Documents/EBTECH/dataset/ffb/ripeness/valid/labels\\ActiOn_343.txt\n",
      "C:/Users/User/Documents/EBTECH/dataset/ffb/ripeness/valid/labels\\ActiOn_344.txt\n",
      "C:/Users/User/Documents/EBTECH/dataset/ffb/ripeness/valid/labels\\ActiOn_345.txt\n",
      "C:/Users/User/Documents/EBTECH/dataset/ffb/ripeness/valid/labels\\ActiOn_346.txt\n",
      "C:/Users/User/Documents/EBTECH/dataset/ffb/ripeness/valid/labels\\ActiOn_363.txt\n",
      "C:/Users/User/Documents/EBTECH/dataset/ffb/ripeness/valid/labels\\ActiOn_436.txt\n",
      "C:/Users/User/Documents/EBTECH/dataset/ffb/ripeness/valid/labels\\ActiOn_451.txt\n",
      "C:/Users/User/Documents/EBTECH/dataset/ffb/ripeness/valid/labels\\ActiOn_465.txt\n",
      "C:/Users/User/Documents/EBTECH/dataset/ffb/ripeness/valid/labels\\ActiOn_466.txt\n",
      "C:/Users/User/Documents/EBTECH/dataset/ffb/ripeness/valid/labels\\ActiOn_467.txt\n",
      "C:/Users/User/Documents/EBTECH/dataset/ffb/ripeness/valid/labels\\ActiOn_470.txt\n",
      "C:/Users/User/Documents/EBTECH/dataset/ffb/ripeness/valid/labels\\ActiOn_472.txt\n",
      "C:/Users/User/Documents/EBTECH/dataset/ffb/ripeness/valid/labels\\ActiOn_476.txt\n",
      "C:/Users/User/Documents/EBTECH/dataset/ffb/ripeness/valid/labels\\ActiOn_487.txt\n",
      "C:/Users/User/Documents/EBTECH/dataset/ffb/ripeness/valid/labels\\ActiOn_513.txt\n",
      "C:/Users/User/Documents/EBTECH/dataset/ffb/ripeness/valid/labels\\ActiOn_527.txt\n",
      "C:/Users/User/Documents/EBTECH/dataset/ffb/ripeness/valid/labels\\ActiOn_531.txt\n",
      "C:/Users/User/Documents/EBTECH/dataset/ffb/ripeness/valid/labels\\ActiOn_555.txt\n",
      "C:/Users/User/Documents/EBTECH/dataset/ffb/ripeness/valid/labels\\img_1281.txt\n",
      "C:/Users/User/Documents/EBTECH/dataset/ffb/ripeness/valid/labels\\img_1282.txt\n",
      "C:/Users/User/Documents/EBTECH/dataset/ffb/ripeness/valid/labels\\img_1283.txt\n",
      "C:/Users/User/Documents/EBTECH/dataset/ffb/ripeness/valid/labels\\img_1284.txt\n",
      "C:/Users/User/Documents/EBTECH/dataset/ffb/ripeness/valid/labels\\img_1285.txt\n",
      "C:/Users/User/Documents/EBTECH/dataset/ffb/ripeness/valid/labels\\img_1286.txt\n",
      "C:/Users/User/Documents/EBTECH/dataset/ffb/ripeness/valid/labels\\img_1287.txt\n",
      "C:/Users/User/Documents/EBTECH/dataset/ffb/ripeness/valid/labels\\img_1288.txt\n",
      "C:/Users/User/Documents/EBTECH/dataset/ffb/ripeness/valid/labels\\img_1289.txt\n",
      "C:/Users/User/Documents/EBTECH/dataset/ffb/ripeness/valid/labels\\img_1290.txt\n",
      "C:/Users/User/Documents/EBTECH/dataset/ffb/ripeness/valid/labels\\img_1291.txt\n",
      "C:/Users/User/Documents/EBTECH/dataset/ffb/ripeness/valid/labels\\img_1292.txt\n",
      "C:/Users/User/Documents/EBTECH/dataset/ffb/ripeness/valid/labels\\img_1293.txt\n"
     ]
    },
    {
     "name": "stderr",
     "output_type": "stream",
     "text": [
      " 14%|█▍        | 49/340 [00:00<00:02, 131.26it/s]"
     ]
    },
    {
     "name": "stdout",
     "output_type": "stream",
     "text": [
      "C:/Users/User/Documents/EBTECH/dataset/ffb/ripeness/valid/labels\\img_1294.txt\n",
      "C:/Users/User/Documents/EBTECH/dataset/ffb/ripeness/valid/labels\\img_1295.txt\n",
      "C:/Users/User/Documents/EBTECH/dataset/ffb/ripeness/valid/labels\\img_1296.txt\n",
      "C:/Users/User/Documents/EBTECH/dataset/ffb/ripeness/valid/labels\\img_1297.txt\n",
      "C:/Users/User/Documents/EBTECH/dataset/ffb/ripeness/valid/labels\\img_1298.txt\n",
      "C:/Users/User/Documents/EBTECH/dataset/ffb/ripeness/valid/labels\\img_1299.txt\n",
      "C:/Users/User/Documents/EBTECH/dataset/ffb/ripeness/valid/labels\\img_1300.txt\n",
      "C:/Users/User/Documents/EBTECH/dataset/ffb/ripeness/valid/labels\\img_1301.txt\n",
      "C:/Users/User/Documents/EBTECH/dataset/ffb/ripeness/valid/labels\\img_1302.txt\n",
      "C:/Users/User/Documents/EBTECH/dataset/ffb/ripeness/valid/labels\\img_1303.txt\n",
      "C:/Users/User/Documents/EBTECH/dataset/ffb/ripeness/valid/labels\\img_1304.txt\n",
      "C:/Users/User/Documents/EBTECH/dataset/ffb/ripeness/valid/labels\\img_1305.txt\n",
      "C:/Users/User/Documents/EBTECH/dataset/ffb/ripeness/valid/labels\\img_1306.txt\n",
      "C:/Users/User/Documents/EBTECH/dataset/ffb/ripeness/valid/labels\\img_1307.txt\n",
      "C:/Users/User/Documents/EBTECH/dataset/ffb/ripeness/valid/labels\\img_1308.txt\n",
      "C:/Users/User/Documents/EBTECH/dataset/ffb/ripeness/valid/labels\\img_1309.txt\n",
      "C:/Users/User/Documents/EBTECH/dataset/ffb/ripeness/valid/labels\\img_1310.txt\n",
      "C:/Users/User/Documents/EBTECH/dataset/ffb/ripeness/valid/labels\\img_1311.txt\n",
      "C:/Users/User/Documents/EBTECH/dataset/ffb/ripeness/valid/labels\\img_1312.txt\n",
      "C:/Users/User/Documents/EBTECH/dataset/ffb/ripeness/valid/labels\\img_1313.txt\n",
      "C:/Users/User/Documents/EBTECH/dataset/ffb/ripeness/valid/labels\\img_1314.txt"
     ]
    },
    {
     "name": "stderr",
     "output_type": "stream",
     "text": [
      " 19%|█▉        | 65/340 [00:00<00:02, 119.82it/s]"
     ]
    },
    {
     "name": "stdout",
     "output_type": "stream",
     "text": [
      "\n",
      "C:/Users/User/Documents/EBTECH/dataset/ffb/ripeness/valid/labels\\img_1315.txt\n",
      "C:/Users/User/Documents/EBTECH/dataset/ffb/ripeness/valid/labels\\img_1316.txt\n",
      "C:/Users/User/Documents/EBTECH/dataset/ffb/ripeness/valid/labels\\img_1317.txt\n",
      "C:/Users/User/Documents/EBTECH/dataset/ffb/ripeness/valid/labels\\img_1318.txt\n",
      "C:/Users/User/Documents/EBTECH/dataset/ffb/ripeness/valid/labels\\img_1319.txt\n",
      "C:/Users/User/Documents/EBTECH/dataset/ffb/ripeness/valid/labels\\img_1320.txt\n",
      "C:/Users/User/Documents/EBTECH/dataset/ffb/ripeness/valid/labels\\img_1321.txt\n",
      "C:/Users/User/Documents/EBTECH/dataset/ffb/ripeness/valid/labels\\img_1322.txt\n",
      "C:/Users/User/Documents/EBTECH/dataset/ffb/ripeness/valid/labels\\img_1323.txt\n",
      "C:/Users/User/Documents/EBTECH/dataset/ffb/ripeness/valid/labels\\img_1324.txt\n",
      "C:/Users/User/Documents/EBTECH/dataset/ffb/ripeness/valid/labels\\img_1325.txt\n",
      "C:/Users/User/Documents/EBTECH/dataset/ffb/ripeness/valid/labels\\img_1326.txt\n",
      "C:/Users/User/Documents/EBTECH/dataset/ffb/ripeness/valid/labels\\img_1327.txt\n",
      "C:/Users/User/Documents/EBTECH/dataset/ffb/ripeness/valid/labels\\img_1328.txt\n",
      "C:/Users/User/Documents/EBTECH/dataset/ffb/ripeness/valid/labels\\img_1329.txt\n",
      "C:/Users/User/Documents/EBTECH/dataset/ffb/ripeness/valid/labels\\img_1330.txt\n",
      "C:/Users/User/Documents/EBTECH/dataset/ffb/ripeness/valid/labels\\img_1331.txt\n",
      "C:/Users/User/Documents/EBTECH/dataset/ffb/ripeness/valid/labels\\img_1332.txt\n",
      "C:/Users/User/Documents/EBTECH/dataset/ffb/ripeness/valid/labels\\img_1333.txt"
     ]
    },
    {
     "name": "stderr",
     "output_type": "stream",
     "text": [
      " 23%|██▎       | 79/340 [00:00<00:02, 111.57it/s]"
     ]
    },
    {
     "name": "stdout",
     "output_type": "stream",
     "text": [
      "\n",
      "C:/Users/User/Documents/EBTECH/dataset/ffb/ripeness/valid/labels\\img_1334.txt\n",
      "C:/Users/User/Documents/EBTECH/dataset/ffb/ripeness/valid/labels\\img_1335.txt\n",
      "C:/Users/User/Documents/EBTECH/dataset/ffb/ripeness/valid/labels\\img_1336.txt\n",
      "C:/Users/User/Documents/EBTECH/dataset/ffb/ripeness/valid/labels\\img_1337.txt\n",
      "C:/Users/User/Documents/EBTECH/dataset/ffb/ripeness/valid/labels\\img_1338.txt\n",
      "C:/Users/User/Documents/EBTECH/dataset/ffb/ripeness/valid/labels\\img_1339.txt\n",
      "C:/Users/User/Documents/EBTECH/dataset/ffb/ripeness/valid/labels\\img_1340.txt\n",
      "C:/Users/User/Documents/EBTECH/dataset/ffb/ripeness/valid/labels\\img_1341.txt\n",
      "C:/Users/User/Documents/EBTECH/dataset/ffb/ripeness/valid/labels\\img_1342.txt\n",
      "C:/Users/User/Documents/EBTECH/dataset/ffb/ripeness/valid/labels\\img_1343.txt\n",
      "C:/Users/User/Documents/EBTECH/dataset/ffb/ripeness/valid/labels\\img_1344.txt\n",
      "C:/Users/User/Documents/EBTECH/dataset/ffb/ripeness/valid/labels\\img_1345.txt\n",
      "C:/Users/User/Documents/EBTECH/dataset/ffb/ripeness/valid/labels\\img_1346.txt\n",
      "C:/Users/User/Documents/EBTECH/dataset/ffb/ripeness/valid/labels\\img_1347.txt\n",
      "C:/Users/User/Documents/EBTECH/dataset/ffb/ripeness/valid/labels\\img_1348.txt\n",
      "C:/Users/User/Documents/EBTECH/dataset/ffb/ripeness/valid/labels\\img_1349.txt\n",
      "C:/Users/User/Documents/EBTECH/dataset/ffb/ripeness/valid/labels\\img_1350.txt\n",
      "C:/Users/User/Documents/EBTECH/dataset/ffb/ripeness/valid/labels\\img_1351.txt"
     ]
    },
    {
     "name": "stderr",
     "output_type": "stream",
     "text": [
      " 30%|███       | 103/340 [00:00<00:02, 100.51it/s]"
     ]
    },
    {
     "name": "stdout",
     "output_type": "stream",
     "text": [
      "\n",
      "C:/Users/User/Documents/EBTECH/dataset/ffb/ripeness/valid/labels\\img_1352.txt\n",
      "C:/Users/User/Documents/EBTECH/dataset/ffb/ripeness/valid/labels\\img_1353.txt\n",
      "C:/Users/User/Documents/EBTECH/dataset/ffb/ripeness/valid/labels\\img_1354.txt\n",
      "C:/Users/User/Documents/EBTECH/dataset/ffb/ripeness/valid/labels\\img_1355.txt\n",
      "C:/Users/User/Documents/EBTECH/dataset/ffb/ripeness/valid/labels\\img_1356.txt\n",
      "C:/Users/User/Documents/EBTECH/dataset/ffb/ripeness/valid/labels\\img_1357.txt\n",
      "C:/Users/User/Documents/EBTECH/dataset/ffb/ripeness/valid/labels\\img_1358.txt\n",
      "C:/Users/User/Documents/EBTECH/dataset/ffb/ripeness/valid/labels\\img_1359.txt\n",
      "C:/Users/User/Documents/EBTECH/dataset/ffb/ripeness/valid/labels\\img_1360.txt\n",
      "C:/Users/User/Documents/EBTECH/dataset/ffb/ripeness/valid/labels\\img_1361.txt\n",
      "C:/Users/User/Documents/EBTECH/dataset/ffb/ripeness/valid/labels\\img_1362.txt\n",
      "C:/Users/User/Documents/EBTECH/dataset/ffb/ripeness/valid/labels\\img_1363.txt\n",
      "C:/Users/User/Documents/EBTECH/dataset/ffb/ripeness/valid/labels\\img_1364.txt\n",
      "C:/Users/User/Documents/EBTECH/dataset/ffb/ripeness/valid/labels\\img_1365.txt\n",
      "C:/Users/User/Documents/EBTECH/dataset/ffb/ripeness/valid/labels\\img_1366.txt\n",
      "C:/Users/User/Documents/EBTECH/dataset/ffb/ripeness/valid/labels\\img_1367.txt\n",
      "C:/Users/User/Documents/EBTECH/dataset/ffb/ripeness/valid/labels\\img_1368.txt"
     ]
    },
    {
     "name": "stderr",
     "output_type": "stream",
     "text": [
      " 37%|███▋      | 125/340 [00:01<00:02, 103.15it/s]"
     ]
    },
    {
     "name": "stdout",
     "output_type": "stream",
     "text": [
      "\n",
      "C:/Users/User/Documents/EBTECH/dataset/ffb/ripeness/valid/labels\\img_1369.txt\n",
      "C:/Users/User/Documents/EBTECH/dataset/ffb/ripeness/valid/labels\\img_1370.txt\n",
      "C:/Users/User/Documents/EBTECH/dataset/ffb/ripeness/valid/labels\\img_1371.txt\n",
      "C:/Users/User/Documents/EBTECH/dataset/ffb/ripeness/valid/labels\\img_1372.txt\n",
      "C:/Users/User/Documents/EBTECH/dataset/ffb/ripeness/valid/labels\\img_1373.txt\n",
      "C:/Users/User/Documents/EBTECH/dataset/ffb/ripeness/valid/labels\\img_1374.txt\n",
      "C:/Users/User/Documents/EBTECH/dataset/ffb/ripeness/valid/labels\\img_1375.txt\n",
      "C:/Users/User/Documents/EBTECH/dataset/ffb/ripeness/valid/labels\\img_1376.txt\n",
      "C:/Users/User/Documents/EBTECH/dataset/ffb/ripeness/valid/labels\\img_1377.txt\n",
      "C:/Users/User/Documents/EBTECH/dataset/ffb/ripeness/valid/labels\\img_1378.txt\n",
      "C:/Users/User/Documents/EBTECH/dataset/ffb/ripeness/valid/labels\\img_1379.txt\n",
      "C:/Users/User/Documents/EBTECH/dataset/ffb/ripeness/valid/labels\\img_1380.txt\n",
      "C:/Users/User/Documents/EBTECH/dataset/ffb/ripeness/valid/labels\\img_1381.txt\n",
      "C:/Users/User/Documents/EBTECH/dataset/ffb/ripeness/valid/labels\\img_1382.txt\n",
      "C:/Users/User/Documents/EBTECH/dataset/ffb/ripeness/valid/labels\\img_1383.txt\n",
      "C:/Users/User/Documents/EBTECH/dataset/ffb/ripeness/valid/labels\\img_1384.txt\n",
      "C:/Users/User/Documents/EBTECH/dataset/ffb/ripeness/valid/labels\\img_1385.txt\n",
      "C:/Users/User/Documents/EBTECH/dataset/ffb/ripeness/valid/labels\\img_1386.txt\n",
      "C:/Users/User/Documents/EBTECH/dataset/ffb/ripeness/valid/labels\\img_1387.txt\n",
      "C:/Users/User/Documents/EBTECH/dataset/ffb/ripeness/valid/labels\\img_1388.txt"
     ]
    },
    {
     "name": "stderr",
     "output_type": "stream",
     "text": [
      " 40%|████      | 136/340 [00:01<00:01, 103.49it/s]"
     ]
    },
    {
     "name": "stdout",
     "output_type": "stream",
     "text": [
      "\n",
      "C:/Users/User/Documents/EBTECH/dataset/ffb/ripeness/valid/labels\\img_1389.txt\n",
      "C:/Users/User/Documents/EBTECH/dataset/ffb/ripeness/valid/labels\\img_1390.txt\n",
      "C:/Users/User/Documents/EBTECH/dataset/ffb/ripeness/valid/labels\\img_1391.txt\n",
      "C:/Users/User/Documents/EBTECH/dataset/ffb/ripeness/valid/labels\\img_1392.txt\n",
      "C:/Users/User/Documents/EBTECH/dataset/ffb/ripeness/valid/labels\\img_1393.txt\n",
      "C:/Users/User/Documents/EBTECH/dataset/ffb/ripeness/valid/labels\\img_1394.txt\n",
      "C:/Users/User/Documents/EBTECH/dataset/ffb/ripeness/valid/labels\\img_1395.txt\n",
      "C:/Users/User/Documents/EBTECH/dataset/ffb/ripeness/valid/labels\\img_1396.txt\n",
      "C:/Users/User/Documents/EBTECH/dataset/ffb/ripeness/valid/labels\\img_1397.txt\n",
      "C:/Users/User/Documents/EBTECH/dataset/ffb/ripeness/valid/labels\\img_1398.txt\n",
      "C:/Users/User/Documents/EBTECH/dataset/ffb/ripeness/valid/labels\\img_1399.txt\n",
      "C:/Users/User/Documents/EBTECH/dataset/ffb/ripeness/valid/labels\\img_1400.txt\n",
      "C:/Users/User/Documents/EBTECH/dataset/ffb/ripeness/valid/labels\\img_1401.txt\n",
      "C:/Users/User/Documents/EBTECH/dataset/ffb/ripeness/valid/labels\\img_1402.txt\n",
      "C:/Users/User/Documents/EBTECH/dataset/ffb/ripeness/valid/labels\\img_1403.txt\n",
      "C:/Users/User/Documents/EBTECH/dataset/ffb/ripeness/valid/labels\\img_1404.txt\n",
      "C:/Users/User/Documents/EBTECH/dataset/ffb/ripeness/valid/labels\\img_1405.txt\n",
      "C:/Users/User/Documents/EBTECH/dataset/ffb/ripeness/valid/labels\\img_1406.txt\n",
      "C:/Users/User/Documents/EBTECH/dataset/ffb/ripeness/valid/labels\\img_1407.txt"
     ]
    },
    {
     "name": "stderr",
     "output_type": "stream",
     "text": [
      " 46%|████▋     | 158/340 [00:01<00:01, 102.52it/s]"
     ]
    },
    {
     "name": "stdout",
     "output_type": "stream",
     "text": [
      "\n",
      "C:/Users/User/Documents/EBTECH/dataset/ffb/ripeness/valid/labels\\img_1408.txt\n",
      "C:/Users/User/Documents/EBTECH/dataset/ffb/ripeness/valid/labels\\img_1409.txt\n",
      "C:/Users/User/Documents/EBTECH/dataset/ffb/ripeness/valid/labels\\img_1410.txt\n",
      "C:/Users/User/Documents/EBTECH/dataset/ffb/ripeness/valid/labels\\img_1411.txt\n",
      "C:/Users/User/Documents/EBTECH/dataset/ffb/ripeness/valid/labels\\img_1412.txt\n",
      "C:/Users/User/Documents/EBTECH/dataset/ffb/ripeness/valid/labels\\img_1413.txt\n",
      "C:/Users/User/Documents/EBTECH/dataset/ffb/ripeness/valid/labels\\img_1414.txt\n",
      "C:/Users/User/Documents/EBTECH/dataset/ffb/ripeness/valid/labels\\img_1415.txt\n",
      "C:/Users/User/Documents/EBTECH/dataset/ffb/ripeness/valid/labels\\img_1416.txt\n",
      "C:/Users/User/Documents/EBTECH/dataset/ffb/ripeness/valid/labels\\img_1417.txt\n",
      "C:/Users/User/Documents/EBTECH/dataset/ffb/ripeness/valid/labels\\img_1418.txt\n",
      "C:/Users/User/Documents/EBTECH/dataset/ffb/ripeness/valid/labels\\img_1419.txt\n",
      "C:/Users/User/Documents/EBTECH/dataset/ffb/ripeness/valid/labels\\img_1420.txt\n",
      "C:/Users/User/Documents/EBTECH/dataset/ffb/ripeness/valid/labels\\img_1421.txt\n",
      "C:/Users/User/Documents/EBTECH/dataset/ffb/ripeness/valid/labels\\img_1422.txt\n",
      "C:/Users/User/Documents/EBTECH/dataset/ffb/ripeness/valid/labels\\img_1423.txt\n",
      "C:/Users/User/Documents/EBTECH/dataset/ffb/ripeness/valid/labels\\img_1424.txt\n",
      "C:/Users/User/Documents/EBTECH/dataset/ffb/ripeness/valid/labels\\img_1425.txt\n",
      "C:/Users/User/Documents/EBTECH/dataset/ffb/ripeness/valid/labels\\img_1426.txt"
     ]
    },
    {
     "name": "stderr",
     "output_type": "stream",
     "text": [
      " 53%|█████▎    | 180/340 [00:01<00:01, 97.43it/s] "
     ]
    },
    {
     "name": "stdout",
     "output_type": "stream",
     "text": [
      "\n",
      "C:/Users/User/Documents/EBTECH/dataset/ffb/ripeness/valid/labels\\img_1427.txt\n",
      "C:/Users/User/Documents/EBTECH/dataset/ffb/ripeness/valid/labels\\img_1428.txt\n",
      "C:/Users/User/Documents/EBTECH/dataset/ffb/ripeness/valid/labels\\img_1429.txt\n",
      "C:/Users/User/Documents/EBTECH/dataset/ffb/ripeness/valid/labels\\img_1430.txt\n",
      "C:/Users/User/Documents/EBTECH/dataset/ffb/ripeness/valid/labels\\img_1431.txt\n",
      "C:/Users/User/Documents/EBTECH/dataset/ffb/ripeness/valid/labels\\img_1432.txt\n",
      "C:/Users/User/Documents/EBTECH/dataset/ffb/ripeness/valid/labels\\img_1433.txt\n",
      "C:/Users/User/Documents/EBTECH/dataset/ffb/ripeness/valid/labels\\img_1434.txt\n",
      "C:/Users/User/Documents/EBTECH/dataset/ffb/ripeness/valid/labels\\img_1435.txt\n",
      "C:/Users/User/Documents/EBTECH/dataset/ffb/ripeness/valid/labels\\img_1436.txt\n",
      "C:/Users/User/Documents/EBTECH/dataset/ffb/ripeness/valid/labels\\img_1437.txt\n",
      "C:/Users/User/Documents/EBTECH/dataset/ffb/ripeness/valid/labels\\img_1438.txt\n",
      "C:/Users/User/Documents/EBTECH/dataset/ffb/ripeness/valid/labels\\img_1439.txt\n",
      "C:/Users/User/Documents/EBTECH/dataset/ffb/ripeness/valid/labels\\img_1440.txt\n",
      "C:/Users/User/Documents/EBTECH/dataset/ffb/ripeness/valid/labels\\img_1441.txt\n",
      "C:/Users/User/Documents/EBTECH/dataset/ffb/ripeness/valid/labels\\img_1442.txt\n",
      "C:/Users/User/Documents/EBTECH/dataset/ffb/ripeness/valid/labels\\img_1443.txt"
     ]
    },
    {
     "name": "stderr",
     "output_type": "stream",
     "text": [
      " 56%|█████▌    | 190/340 [00:01<00:01, 92.55it/s]"
     ]
    },
    {
     "name": "stdout",
     "output_type": "stream",
     "text": [
      "\n",
      "C:/Users/User/Documents/EBTECH/dataset/ffb/ripeness/valid/labels\\img_1444.txt\n",
      "C:/Users/User/Documents/EBTECH/dataset/ffb/ripeness/valid/labels\\img_1445.txt\n",
      "C:/Users/User/Documents/EBTECH/dataset/ffb/ripeness/valid/labels\\img_1446.txt\n",
      "C:/Users/User/Documents/EBTECH/dataset/ffb/ripeness/valid/labels\\img_1447.txt\n",
      "C:/Users/User/Documents/EBTECH/dataset/ffb/ripeness/valid/labels\\img_1448.txt\n",
      "C:/Users/User/Documents/EBTECH/dataset/ffb/ripeness/valid/labels\\img_1449.txt\n",
      "C:/Users/User/Documents/EBTECH/dataset/ffb/ripeness/valid/labels\\img_1450.txt\n",
      "C:/Users/User/Documents/EBTECH/dataset/ffb/ripeness/valid/labels\\img_1451.txt\n",
      "C:/Users/User/Documents/EBTECH/dataset/ffb/ripeness/valid/labels\\img_1452.txt\n",
      "C:/Users/User/Documents/EBTECH/dataset/ffb/ripeness/valid/labels\\img_1453.txt\n",
      "C:/Users/User/Documents/EBTECH/dataset/ffb/ripeness/valid/labels\\img_1454.txt\n",
      "C:/Users/User/Documents/EBTECH/dataset/ffb/ripeness/valid/labels\\img_1455.txt\n",
      "C:/Users/User/Documents/EBTECH/dataset/ffb/ripeness/valid/labels\\img_1456.txt\n",
      "C:/Users/User/Documents/EBTECH/dataset/ffb/ripeness/valid/labels\\img_1457.txt\n",
      "C:/Users/User/Documents/EBTECH/dataset/ffb/ripeness/valid/labels\\img_1458.txt"
     ]
    },
    {
     "name": "stderr",
     "output_type": "stream",
     "text": [
      " 61%|██████▏   | 209/340 [00:02<00:01, 86.18it/s]"
     ]
    },
    {
     "name": "stdout",
     "output_type": "stream",
     "text": [
      "\n",
      "C:/Users/User/Documents/EBTECH/dataset/ffb/ripeness/valid/labels\\img_1459.txt\n",
      "C:/Users/User/Documents/EBTECH/dataset/ffb/ripeness/valid/labels\\img_1460.txt\n",
      "C:/Users/User/Documents/EBTECH/dataset/ffb/ripeness/valid/labels\\img_1461.txt\n",
      "C:/Users/User/Documents/EBTECH/dataset/ffb/ripeness/valid/labels\\img_1462.txt\n",
      "C:/Users/User/Documents/EBTECH/dataset/ffb/ripeness/valid/labels\\img_1463.txt\n",
      "C:/Users/User/Documents/EBTECH/dataset/ffb/ripeness/valid/labels\\img_1464.txt\n",
      "C:/Users/User/Documents/EBTECH/dataset/ffb/ripeness/valid/labels\\img_1465.txt\n",
      "C:/Users/User/Documents/EBTECH/dataset/ffb/ripeness/valid/labels\\img_1466.txt\n",
      "C:/Users/User/Documents/EBTECH/dataset/ffb/ripeness/valid/labels\\img_1467.txt\n",
      "C:/Users/User/Documents/EBTECH/dataset/ffb/ripeness/valid/labels\\img_1468.txt\n",
      "C:/Users/User/Documents/EBTECH/dataset/ffb/ripeness/valid/labels\\img_1469.txt\n",
      "C:/Users/User/Documents/EBTECH/dataset/ffb/ripeness/valid/labels\\img_1470.txt\n",
      "C:/Users/User/Documents/EBTECH/dataset/ffb/ripeness/valid/labels\\img_1471.txt\n",
      "C:/Users/User/Documents/EBTECH/dataset/ffb/ripeness/valid/labels\\img_1472.txt\n",
      "C:/Users/User/Documents/EBTECH/dataset/ffb/ripeness/valid/labels\\img_1473.txt\n",
      "C:/Users/User/Documents/EBTECH/dataset/ffb/ripeness/valid/labels\\img_1474.txt"
     ]
    },
    {
     "name": "stderr",
     "output_type": "stream",
     "text": [
      " 68%|██████▊   | 230/340 [00:02<00:01, 91.37it/s]"
     ]
    },
    {
     "name": "stdout",
     "output_type": "stream",
     "text": [
      "\n",
      "C:/Users/User/Documents/EBTECH/dataset/ffb/ripeness/valid/labels\\img_1475.txt\n",
      "C:/Users/User/Documents/EBTECH/dataset/ffb/ripeness/valid/labels\\img_1476.txt\n",
      "C:/Users/User/Documents/EBTECH/dataset/ffb/ripeness/valid/labels\\img_1477.txt\n",
      "C:/Users/User/Documents/EBTECH/dataset/ffb/ripeness/valid/labels\\img_1478.txt\n",
      "C:/Users/User/Documents/EBTECH/dataset/ffb/ripeness/valid/labels\\img_1479.txt\n",
      "C:/Users/User/Documents/EBTECH/dataset/ffb/ripeness/valid/labels\\img_1480.txt\n",
      "C:/Users/User/Documents/EBTECH/dataset/ffb/ripeness/valid/labels\\img_1481.txt\n",
      "C:/Users/User/Documents/EBTECH/dataset/ffb/ripeness/valid/labels\\img_1482.txt\n",
      "C:/Users/User/Documents/EBTECH/dataset/ffb/ripeness/valid/labels\\img_1483.txt\n",
      "C:/Users/User/Documents/EBTECH/dataset/ffb/ripeness/valid/labels\\img_1484.txt\n",
      "C:/Users/User/Documents/EBTECH/dataset/ffb/ripeness/valid/labels\\img_1485.txt\n",
      "C:/Users/User/Documents/EBTECH/dataset/ffb/ripeness/valid/labels\\img_1486.txt\n",
      "C:/Users/User/Documents/EBTECH/dataset/ffb/ripeness/valid/labels\\img_1487.txt\n",
      "C:/Users/User/Documents/EBTECH/dataset/ffb/ripeness/valid/labels\\img_1488.txt\n",
      "C:/Users/User/Documents/EBTECH/dataset/ffb/ripeness/valid/labels\\img_1489.txt\n",
      "C:/Users/User/Documents/EBTECH/dataset/ffb/ripeness/valid/labels\\img_1490.txt\n",
      "C:/Users/User/Documents/EBTECH/dataset/ffb/ripeness/valid/labels\\img_1491.txt\n",
      "C:/Users/User/Documents/EBTECH/dataset/ffb/ripeness/valid/labels\\img_1492.txt"
     ]
    },
    {
     "name": "stderr",
     "output_type": "stream",
     "text": [
      " 71%|███████   | 241/340 [00:02<00:01, 95.13it/s]"
     ]
    },
    {
     "name": "stdout",
     "output_type": "stream",
     "text": [
      "\n",
      "C:/Users/User/Documents/EBTECH/dataset/ffb/ripeness/valid/labels\\img_1493.txt\n",
      "C:/Users/User/Documents/EBTECH/dataset/ffb/ripeness/valid/labels\\img_1494.txt\n",
      "C:/Users/User/Documents/EBTECH/dataset/ffb/ripeness/valid/labels\\img_1495.txt\n",
      "C:/Users/User/Documents/EBTECH/dataset/ffb/ripeness/valid/labels\\img_1496.txt\n",
      "C:/Users/User/Documents/EBTECH/dataset/ffb/ripeness/valid/labels\\img_1497.txt\n",
      "C:/Users/User/Documents/EBTECH/dataset/ffb/ripeness/valid/labels\\img_1498.txt\n",
      "C:/Users/User/Documents/EBTECH/dataset/ffb/ripeness/valid/labels\\img_1499.txt\n",
      "C:/Users/User/Documents/EBTECH/dataset/ffb/ripeness/valid/labels\\img_1500.txt\n",
      "C:/Users/User/Documents/EBTECH/dataset/ffb/ripeness/valid/labels\\img_1501.txt\n",
      "C:/Users/User/Documents/EBTECH/dataset/ffb/ripeness/valid/labels\\img_1502.txt\n",
      "C:/Users/User/Documents/EBTECH/dataset/ffb/ripeness/valid/labels\\img_1503.txt\n",
      "C:/Users/User/Documents/EBTECH/dataset/ffb/ripeness/valid/labels\\img_1504.txt\n",
      "C:/Users/User/Documents/EBTECH/dataset/ffb/ripeness/valid/labels\\img_1505.txt\n",
      "C:/Users/User/Documents/EBTECH/dataset/ffb/ripeness/valid/labels\\img_1506.txt\n",
      "C:/Users/User/Documents/EBTECH/dataset/ffb/ripeness/valid/labels\\img_1507.txt\n",
      "C:/Users/User/Documents/EBTECH/dataset/ffb/ripeness/valid/labels\\img_1508.txt\n",
      "C:/Users/User/Documents/EBTECH/dataset/ffb/ripeness/valid/labels\\img_1509.txt\n",
      "C:/Users/User/Documents/EBTECH/dataset/ffb/ripeness/valid/labels\\img_1510.txt\n",
      "C:/Users/User/Documents/EBTECH/dataset/ffb/ripeness/valid/labels\\img_1511.txt\n",
      "C:/Users/User/Documents/EBTECH/dataset/ffb/ripeness/valid/labels\\img_1512.txt"
     ]
    },
    {
     "name": "stderr",
     "output_type": "stream",
     "text": [
      " 77%|███████▋  | 263/340 [00:02<00:00, 101.46it/s]"
     ]
    },
    {
     "name": "stdout",
     "output_type": "stream",
     "text": [
      "\n",
      "C:/Users/User/Documents/EBTECH/dataset/ffb/ripeness/valid/labels\\img_1513.txt\n",
      "C:/Users/User/Documents/EBTECH/dataset/ffb/ripeness/valid/labels\\img_1514.txt\n",
      "C:/Users/User/Documents/EBTECH/dataset/ffb/ripeness/valid/labels\\img_1515.txt\n",
      "C:/Users/User/Documents/EBTECH/dataset/ffb/ripeness/valid/labels\\img_1516.txt\n",
      "C:/Users/User/Documents/EBTECH/dataset/ffb/ripeness/valid/labels\\img_1517.txt\n",
      "C:/Users/User/Documents/EBTECH/dataset/ffb/ripeness/valid/labels\\img_1518.txt\n",
      "C:/Users/User/Documents/EBTECH/dataset/ffb/ripeness/valid/labels\\img_1519.txt\n",
      "C:/Users/User/Documents/EBTECH/dataset/ffb/ripeness/valid/labels\\img_1520.txt\n",
      "C:/Users/User/Documents/EBTECH/dataset/ffb/ripeness/valid/labels\\img_1521.txt\n",
      "C:/Users/User/Documents/EBTECH/dataset/ffb/ripeness/valid/labels\\img_1522.txt\n",
      "C:/Users/User/Documents/EBTECH/dataset/ffb/ripeness/valid/labels\\img_1523.txt\n",
      "C:/Users/User/Documents/EBTECH/dataset/ffb/ripeness/valid/labels\\img_1524.txt\n",
      "C:/Users/User/Documents/EBTECH/dataset/ffb/ripeness/valid/labels\\img_1525.txt\n",
      "C:/Users/User/Documents/EBTECH/dataset/ffb/ripeness/valid/labels\\img_1526.txt\n",
      "C:/Users/User/Documents/EBTECH/dataset/ffb/ripeness/valid/labels\\img_1527.txt\n",
      "C:/Users/User/Documents/EBTECH/dataset/ffb/ripeness/valid/labels\\img_1528.txt\n",
      "C:/Users/User/Documents/EBTECH/dataset/ffb/ripeness/valid/labels\\img_1529.txt\n",
      "C:/Users/User/Documents/EBTECH/dataset/ffb/ripeness/valid/labels\\img_1530.txt\n",
      "C:/Users/User/Documents/EBTECH/dataset/ffb/ripeness/valid/labels\\img_1531.txt\n",
      "C:/Users/User/Documents/EBTECH/dataset/ffb/ripeness/valid/labels\\img_1532.txt"
     ]
    },
    {
     "name": "stderr",
     "output_type": "stream",
     "text": [
      " 84%|████████▍ | 285/340 [00:02<00:00, 93.92it/s] "
     ]
    },
    {
     "name": "stdout",
     "output_type": "stream",
     "text": [
      "\n",
      "C:/Users/User/Documents/EBTECH/dataset/ffb/ripeness/valid/labels\\img_1533.txt\n",
      "C:/Users/User/Documents/EBTECH/dataset/ffb/ripeness/valid/labels\\img_1534.txt\n",
      "C:/Users/User/Documents/EBTECH/dataset/ffb/ripeness/valid/labels\\img_1535.txt\n",
      "C:/Users/User/Documents/EBTECH/dataset/ffb/ripeness/valid/labels\\img_1536.txt\n",
      "C:/Users/User/Documents/EBTECH/dataset/ffb/ripeness/valid/labels\\img_1537.txt\n",
      "C:/Users/User/Documents/EBTECH/dataset/ffb/ripeness/valid/labels\\img_1538.txt\n",
      "C:/Users/User/Documents/EBTECH/dataset/ffb/ripeness/valid/labels\\img_1539.txt\n",
      "C:/Users/User/Documents/EBTECH/dataset/ffb/ripeness/valid/labels\\img_1540.txt\n",
      "C:/Users/User/Documents/EBTECH/dataset/ffb/ripeness/valid/labels\\img_1541.txt\n",
      "C:/Users/User/Documents/EBTECH/dataset/ffb/ripeness/valid/labels\\img_1542.txt\n",
      "C:/Users/User/Documents/EBTECH/dataset/ffb/ripeness/valid/labels\\img_1543.txt\n",
      "C:/Users/User/Documents/EBTECH/dataset/ffb/ripeness/valid/labels\\img_1544.txt\n",
      "C:/Users/User/Documents/EBTECH/dataset/ffb/ripeness/valid/labels\\img_1545.txt\n",
      "C:/Users/User/Documents/EBTECH/dataset/ffb/ripeness/valid/labels\\img_1546.txt\n",
      "C:/Users/User/Documents/EBTECH/dataset/ffb/ripeness/valid/labels\\img_1547.txt\n"
     ]
    },
    {
     "name": "stderr",
     "output_type": "stream",
     "text": [
      " 87%|████████▋ | 295/340 [00:02<00:00, 81.03it/s]"
     ]
    },
    {
     "name": "stdout",
     "output_type": "stream",
     "text": [
      "C:/Users/User/Documents/EBTECH/dataset/ffb/ripeness/valid/labels\\img_1548.txt\n",
      "C:/Users/User/Documents/EBTECH/dataset/ffb/ripeness/valid/labels\\img_1549.txt\n",
      "C:/Users/User/Documents/EBTECH/dataset/ffb/ripeness/valid/labels\\img_1550.txt\n",
      "C:/Users/User/Documents/EBTECH/dataset/ffb/ripeness/valid/labels\\img_1551.txt\n",
      "C:/Users/User/Documents/EBTECH/dataset/ffb/ripeness/valid/labels\\img_1552.txt\n",
      "C:/Users/User/Documents/EBTECH/dataset/ffb/ripeness/valid/labels\\img_1553.txt\n",
      "C:/Users/User/Documents/EBTECH/dataset/ffb/ripeness/valid/labels\\img_1554.txt\n",
      "C:/Users/User/Documents/EBTECH/dataset/ffb/ripeness/valid/labels\\img_1555.txt\n",
      "C:/Users/User/Documents/EBTECH/dataset/ffb/ripeness/valid/labels\\img_1556.txt\n",
      "C:/Users/User/Documents/EBTECH/dataset/ffb/ripeness/valid/labels\\img_1557.txt\n",
      "C:/Users/User/Documents/EBTECH/dataset/ffb/ripeness/valid/labels\\img_1558.txt\n",
      "C:/Users/User/Documents/EBTECH/dataset/ffb/ripeness/valid/labels\\img_1559.txt\n",
      "C:/Users/User/Documents/EBTECH/dataset/ffb/ripeness/valid/labels\\img_1560.txt"
     ]
    },
    {
     "name": "stderr",
     "output_type": "stream",
     "text": [
      " 89%|████████▉ | 304/340 [00:03<00:00, 73.01it/s]"
     ]
    },
    {
     "name": "stdout",
     "output_type": "stream",
     "text": [
      "\n",
      "C:/Users/User/Documents/EBTECH/dataset/ffb/ripeness/valid/labels\\img_1561.txt\n",
      "C:/Users/User/Documents/EBTECH/dataset/ffb/ripeness/valid/labels\\img_1562.txt\n",
      "C:/Users/User/Documents/EBTECH/dataset/ffb/ripeness/valid/labels\\img_1563.txt\n",
      "C:/Users/User/Documents/EBTECH/dataset/ffb/ripeness/valid/labels\\img_1564.txt\n",
      "C:/Users/User/Documents/EBTECH/dataset/ffb/ripeness/valid/labels\\img_1565.txt\n",
      "C:/Users/User/Documents/EBTECH/dataset/ffb/ripeness/valid/labels\\img_1566.txt\n",
      "C:/Users/User/Documents/EBTECH/dataset/ffb/ripeness/valid/labels\\img_1567.txt\n",
      "C:/Users/User/Documents/EBTECH/dataset/ffb/ripeness/valid/labels\\img_1568.txt\n",
      "C:/Users/User/Documents/EBTECH/dataset/ffb/ripeness/valid/labels\\img_1569.txt\n",
      "C:/Users/User/Documents/EBTECH/dataset/ffb/ripeness/valid/labels\\img_1570.txt\n",
      "C:/Users/User/Documents/EBTECH/dataset/ffb/ripeness/valid/labels\\img_1571.txt\n",
      "C:/Users/User/Documents/EBTECH/dataset/ffb/ripeness/valid/labels\\img_1572.txt\n",
      "C:/Users/User/Documents/EBTECH/dataset/ffb/ripeness/valid/labels\\img_1573.txt\n",
      "C:/Users/User/Documents/EBTECH/dataset/ffb/ripeness/valid/labels\\img_1574.txt\n",
      "C:/Users/User/Documents/EBTECH/dataset/ffb/ripeness/valid/labels\\img_1575.txt\n",
      "C:/Users/User/Documents/EBTECH/dataset/ffb/ripeness/valid/labels\\img_1576.txt\n",
      "C:/Users/User/Documents/EBTECH/dataset/ffb/ripeness/valid/labels\\img_1577.txt\n",
      "C:/Users/User/Documents/EBTECH/dataset/ffb/ripeness/valid/labels\\img_1578.txt"
     ]
    },
    {
     "name": "stderr",
     "output_type": "stream",
     "text": [
      " 97%|█████████▋| 330/340 [00:03<00:00, 93.23it/s]"
     ]
    },
    {
     "name": "stdout",
     "output_type": "stream",
     "text": [
      "\n",
      "C:/Users/User/Documents/EBTECH/dataset/ffb/ripeness/valid/labels\\img_1579.txt\n",
      "C:/Users/User/Documents/EBTECH/dataset/ffb/ripeness/valid/labels\\img_1580.txt\n",
      "C:/Users/User/Documents/EBTECH/dataset/ffb/ripeness/valid/labels\\img_1581.txt\n",
      "C:/Users/User/Documents/EBTECH/dataset/ffb/ripeness/valid/labels\\img_1582.txt\n",
      "C:/Users/User/Documents/EBTECH/dataset/ffb/ripeness/valid/labels\\img_1583.txt\n",
      "C:/Users/User/Documents/EBTECH/dataset/ffb/ripeness/valid/labels\\img_1584.txt\n",
      "C:/Users/User/Documents/EBTECH/dataset/ffb/ripeness/valid/labels\\img_1585.txt\n",
      "C:/Users/User/Documents/EBTECH/dataset/ffb/ripeness/valid/labels\\img_1586.txt\n",
      "C:/Users/User/Documents/EBTECH/dataset/ffb/ripeness/valid/labels\\img_1587.txt\n",
      "C:/Users/User/Documents/EBTECH/dataset/ffb/ripeness/valid/labels\\img_1588.txt\n",
      "C:/Users/User/Documents/EBTECH/dataset/ffb/ripeness/valid/labels\\img_1589.txt\n",
      "C:/Users/User/Documents/EBTECH/dataset/ffb/ripeness/valid/labels\\img_1590.txt\n",
      "C:/Users/User/Documents/EBTECH/dataset/ffb/ripeness/valid/labels\\img_1591.txt\n",
      "C:/Users/User/Documents/EBTECH/dataset/ffb/ripeness/valid/labels\\img_1592.txt\n",
      "C:/Users/User/Documents/EBTECH/dataset/ffb/ripeness/valid/labels\\img_1593.txt\n",
      "C:/Users/User/Documents/EBTECH/dataset/ffb/ripeness/valid/labels\\img_1594.txt\n",
      "C:/Users/User/Documents/EBTECH/dataset/ffb/ripeness/valid/labels\\img_1595.txt\n",
      "C:/Users/User/Documents/EBTECH/dataset/ffb/ripeness/valid/labels\\img_1596.txt\n",
      "C:/Users/User/Documents/EBTECH/dataset/ffb/ripeness/valid/labels\\img_1597.txt\n",
      "C:/Users/User/Documents/EBTECH/dataset/ffb/ripeness/valid/labels\\img_1598.txt\n",
      "C:/Users/User/Documents/EBTECH/dataset/ffb/ripeness/valid/labels\\img_1599.txt\n",
      "C:/Users/User/Documents/EBTECH/dataset/ffb/ripeness/valid/labels\\img_1600.txt"
     ]
    },
    {
     "name": "stderr",
     "output_type": "stream",
     "text": [
      "100%|██████████| 340/340 [00:03<00:00, 99.34it/s]"
     ]
    },
    {
     "name": "stdout",
     "output_type": "stream",
     "text": [
      "\n"
     ]
    },
    {
     "name": "stderr",
     "output_type": "stream",
     "text": [
      "\n"
     ]
    }
   ],
   "source": [
    "# Get the annotations\n",
    "from tqdm import tqdm\n",
    "from collections import defaultdict\n",
    "import os\n",
    "import csv\n",
    "\n",
    "from xml.etree.ElementTree import parse, Element, SubElement, ElementTree\n",
    "import xml.etree.ElementTree as ET\n",
    "annotations = [os.path.join('C:/Users/User/Documents/EBTECH/dataset/ffb/test', x) for x in os.listdir('C:/Users/User/Documents/EBTECH/dataset/ffb/test') if x[-3:] == \"xml\"]\n",
    "annotations.sort()\n",
    "\n",
    "# Convert and save the annotations\n",
    "for ann in tqdm(annotations):\n",
    "    info_dict = extract_info_from_xml(ann)\n",
    "    convert_to_yolov5(info_dict)\n",
    "# annotations = [os.path.join('C:/Users/User/Documents/EBTECH/dataset/palmoiltree/all', x) for x in os.listdir('annotations') if x[-3:] == \"txt\"]"
   ]
  }
 ],
 "metadata": {
  "kernelspec": {
   "display_name": "Python 3.6.13 ('kambyan')",
   "language": "python",
   "name": "python3"
  },
  "language_info": {
   "codemirror_mode": {
    "name": "ipython",
    "version": 3
   },
   "file_extension": ".py",
   "mimetype": "text/x-python",
   "name": "python",
   "nbconvert_exporter": "python",
   "pygments_lexer": "ipython3",
   "version": "3.6.13"
  },
  "orig_nbformat": 4,
  "vscode": {
   "interpreter": {
    "hash": "7dd4ed855815963b9307e29bf831c94a606e24c71e6ebde108ca4eee29b26b0e"
   }
  }
 },
 "nbformat": 4,
 "nbformat_minor": 2
}
